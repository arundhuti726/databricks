{
 "cells": [
  {
   "cell_type": "code",
   "execution_count": 0,
   "metadata": {
    "application/vnd.databricks.v1+cell": {
     "cellMetadata": {
      "byteLimit": 10485760,
      "rowLimit": 1000
     },
     "inputWidgets": {},
     "nuid": "bfee718b-ffe0-41fb-9d12-e75caef30a45",
     "showTitle": false,
     "tableResultSettingsMap": {},
     "title": ""
    }
   },
   "outputs": [
    {
     "output_type": "display_data",
     "data": {
      "text/plain": [
       "Databricks visualization. Run in Databricks to view."
      ]
     },
     "metadata": {
      "application/vnd.databricks.v1.subcommand+json": {
       "baseErrorDetails": null,
       "bindings": {},
       "collapsed": false,
       "command": "select  t1.*,\nt2.range_start, t2.range_end, t2.status, t2.load_start_date, t2.load_end_date\nfrom dev_edh.dummy.lab_data_count_gold t1\ninner join dev_edh.dummy.lab_data_status t2\non t1.test_source = t2.test_source\n--and t1.test_date = t2.load_end_date\nwhere t1.Test_source=:Lab\n Limit 5;\n\n",
       "commandTitle": "Results",
       "commandType": "auto",
       "commandVersion": 0,
       "commentThread": [],
       "commentsVisible": false,
       "contentSha256Hex": null,
       "customPlotOptions": {
        "redashChart": [
         {
          "key": "type",
          "value": "TABLE"
         },
         {
          "key": "options",
          "value": {
           "version": 2
          }
         }
        ]
       },
       "datasetPreviewNameToCmdIdMap": {},
       "diffDeletes": [],
       "diffInserts": [],
       "displayType": "redashChart",
       "error": null,
       "errorDetails": null,
       "errorSummary": null,
       "errorTraceType": null,
       "finishTime": 0,
       "globalVars": {},
       "guid": "",
       "height": "auto",
       "hideCommandCode": false,
       "hideCommandResult": false,
       "iPythonMetadata": null,
       "inputWidgets": {},
       "isLockedInExamMode": false,
       "latestUser": "a user",
       "latestUserId": null,
       "listResultMetadata": null,
       "metadata": {},
       "nuid": "046a5ece-dc70-4ab8-bcfe-229f9b50ba1f",
       "origId": 0,
       "parentHierarchy": [],
       "pivotAggregation": null,
       "pivotColumns": null,
       "position": 3.0,
       "resultDbfsErrorMessage": null,
       "resultDbfsStatus": "INLINED_IN_TREE",
       "results": null,
       "showCommandTitle": false,
       "startTime": 0,
       "state": "input",
       "streamStates": {},
       "subcommandOptions": {
        "redashId": "8a70b139-9221-4850-a72e-2e6cb3d7a4d7",
        "redashLastUpdated": 1748228689000
       },
       "submitTime": 0,
       "subtype": "tableResultSubCmd.visualization",
       "tableResultIndex": 0,
       "tableResultSettingsMap": {},
       "useConsistentColors": false,
       "version": "CommandV1",
       "width": "auto",
       "workflows": null,
       "xColumns": null,
       "yColumns": null
      }
     },
     "output_type": "display_data"
    }
   ],
   "source": [
    "select  t1.*,\n",
    "t2.range_start, t2.range_end, t2.status, t2.load_start_date, t2.load_end_date, \n",
    "from dev_edh.dummy.lab_data_count_gold t1\n",
    "inner join dev_edh.dummy.lab_data_status t2\n",
    "on t1.test_source = t2.test_source\n",
    "--and t1.test_date = t2.load_end_date\n",
    "where t1.Test_source=:Lab\n",
    " Limit 5;\n",
    "\n"
   ]
  }
 ],
 "metadata": {
  "application/vnd.databricks.v1+notebook": {
   "computePreferences": null,
   "dashboards": [],
   "environmentMetadata": null,
   "inputWidgetPreferences": null,
   "language": "sql",
   "notebookMetadata": {
    "pythonIndentUnit": 4,
    "sqlQueryOptions": {
     "applyAutoLimit": true,
     "catalog": "dev_edh",
     "schema": "dummy"
    }
   },
   "notebookName": "Table.dbquery.ipynb",
   "widgets": {
    "Lab": {
     "currentValue": "lab A",
     "nuid": "306d2605-5d26-471e-bb81-89e2bb0ce7f0",
     "typedWidgetInfo": {
      "autoCreated": false,
      "defaultValue": "lab A",
      "label": "Lab",
      "name": "Lab",
      "options": {
       "widgetDisplayType": "Dropdown",
       "choices": [
        "lab A",
        "lab B",
        "lab D"
       ],
       "fixedDomain": true,
       "multiselect": false
      },
      "parameterDataType": "String"
     },
     "widgetInfo": {
      "widgetType": "dropdown",
      "defaultValue": "lab A",
      "label": "Lab",
      "name": "Lab",
      "options": {
       "widgetType": "dropdown",
       "autoCreated": false,
       "choices": [
        "lab A",
        "lab B",
        "lab D"
       ]
      }
     }
    }
   }
  },
  "language_info": {
   "name": "sql"
  }
 },
 "nbformat": 4,
 "nbformat_minor": 0
}
