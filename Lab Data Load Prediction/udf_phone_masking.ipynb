{
 "cells": [
  {
   "cell_type": "code",
   "execution_count": 0,
   "metadata": {
    "application/vnd.databricks.v1+cell": {
     "cellMetadata": {
      "byteLimit": 2048000,
      "rowLimit": 10000
     },
     "inputWidgets": {},
     "nuid": "37e342a0-3518-479b-b486-c85908e568bf",
     "showTitle": false,
     "tableResultSettingsMap": {},
     "title": ""
    }
   },
   "outputs": [],
   "source": [
    "%python\n",
    "from pyspark.sql.functions import udf, col, regexp_replace\n",
    "from pyspark.sql.types import StringType\n",
    "\n",
    "\n",
    "def mask_phone_number(phone_number):\n",
    "    #replace ISD from the number \n",
    "    phone_number = phone_number.replace('+', '')\n",
    "    #keep only number and remove all su=ymbols and other\n",
    "    phone_number = ''.join(filter(str.isdigit, phone_number))\n",
    "    if phone_number and len(phone_number) >= 10:\n",
    "        new_phone_number = phone_number[:4] + '*' * (len(phone_number) - 4)\n",
    "        return new_phone_number\n",
    "    return phone_number\n",
    "\n",
    "mask_phone_number_udf = udf(mask_phone_number, StringType())\n",
    "\n",
    "\n",
    "# Example DataFrame to demonstrate the UDF\n",
    "df = spark.createDataFrame([('+1234567890897',), ('0987654321',)], ['phone_number'])\n",
    "\n",
    "df = df.withColumn('masked_phone_number', mask_phone_number_udf(col('phone_number')))\n",
    "\n",
    "#display(df)"
   ]
  },
  {
   "cell_type": "code",
   "execution_count": 0,
   "metadata": {
    "application/vnd.databricks.v1+cell": {
     "cellMetadata": {
      "byteLimit": 2048000,
      "implicitDf": true,
      "rowLimit": 10000
     },
     "inputWidgets": {},
     "nuid": "5797ccdb-de35-4db1-a237-21259a0d19f1",
     "showTitle": false,
     "tableResultSettingsMap": {},
     "title": ""
    }
   },
   "outputs": [],
   "source": [
    "# %sql\n",
    "# CREATE OR REPLACE FUNCTION dev_edh.dummy.mask_phone_number(phone_number STRING)\n",
    "#   RETURNS STRING\n",
    "#   LANGUAGE PYTHON\n",
    "#   AS $$\n",
    "#     def mask_phone_number(phone_number):\n",
    "#         from pyspark.sql.functions import udf\n",
    "#         from pyspark.sql.types import StringType\n",
    "\n",
    "#         if len(phone_number) >= 10:\n",
    "#             return phone_number[:4] + '****'\n",
    "#             return new_phone_number\n",
    "#         else:\n",
    "#             return phone_number\n",
    "#       $$"
   ]
  }
 ],
 "metadata": {
  "application/vnd.databricks.v1+notebook": {
   "computePreferences": null,
   "dashboards": [],
   "environmentMetadata": {
    "base_environment": "",
    "environment_version": "2"
   },
   "inputWidgetPreferences": null,
   "language": "python",
   "notebookMetadata": {
    "mostRecentlyExecutedCommandWithImplicitDF": {
     "commandId": 6919041006143175,
     "dataframes": [
      "_sqldf"
     ]
    },
    "pythonIndentUnit": 4
   },
   "notebookName": "udf_phone_masking",
   "widgets": {}
  },
  "language_info": {
   "name": "python"
  }
 },
 "nbformat": 4,
 "nbformat_minor": 0
}
