{
 "cells": [
  {
   "cell_type": "code",
   "execution_count": 0,
   "metadata": {
    "application/vnd.databricks.v1+cell": {
     "cellMetadata": {
      "byteLimit": 2048000,
      "rowLimit": 10000
     },
     "inputWidgets": {},
     "nuid": "52a3a885-66de-4fd3-9b06-0677ca0613ad",
     "showTitle": false,
     "tableResultSettingsMap": {},
     "title": ""
    }
   },
   "outputs": [],
   "source": [
    "\n",
    "spark.sql('USE CATALOG dev_edh')\n",
    "spark.sql('USE SCHEMA dummy')"
   ]
  },
  {
   "cell_type": "code",
   "execution_count": 0,
   "metadata": {
    "application/vnd.databricks.v1+cell": {
     "cellMetadata": {
      "byteLimit": 2048000,
      "implicitDf": true,
      "rowLimit": 10000
     },
     "inputWidgets": {},
     "nuid": "a3d25408-3031-4e95-af15-2eb605387c91",
     "showTitle": false,
     "tableResultSettingsMap": {},
     "title": ""
    }
   },
   "outputs": [],
   "source": [
    "%sql\n",
    "drop table if exists lab_data_silver;\n",
    "--drop table if exists lab_data_gold;\n",
    "drop table if exists lab_data_gold_agg;\n",
    "--drop table if exists lab_data_count_gold;\n",
    "--drop table if exists lab_data_status;\n",
    "drop table if exists lab_data_quarantine;\n",
    "drop table if exists sample_lab_data;\n",
    "drop table if exists raw_data_lab;\n",
    "drop table if exists raw_data;"
   ]
  },
  {
   "cell_type": "code",
   "execution_count": 0,
   "metadata": {
    "application/vnd.databricks.v1+cell": {
     "cellMetadata": {},
     "inputWidgets": {},
     "nuid": "31754320-c3d0-4ac3-ab08-26ed5a6dcb34",
     "showTitle": false,
     "tableResultSettingsMap": {},
     "title": ""
    }
   },
   "outputs": [],
   "source": [
    "# # Move all files with a specific name to a specific folder\n",
    "# files = dbutils.fs.ls('dbfs:/user/arundhuti/')\n",
    "# for file in files:\n",
    "#     if file.name.startswith('lab_data_') and file.name.endswith('.csv'):\n",
    "#         dbutils.fs.mv(file.path, 'dbfs:/user/arundhuti/lab_data_source_file', True)"
   ]
  },
  {
   "cell_type": "markdown",
   "metadata": {
    "application/vnd.databricks.v1+cell": {
     "cellMetadata": {},
     "inputWidgets": {},
     "nuid": "2ea0b94c-29bb-4a8b-94cb-f55e84def761",
     "showTitle": false,
     "tableResultSettingsMap": {},
     "title": ""
    }
   },
   "source": [
    "Extra action if need"
   ]
  },
  {
   "cell_type": "code",
   "execution_count": 0,
   "metadata": {
    "application/vnd.databricks.v1+cell": {
     "cellMetadata": {},
     "inputWidgets": {},
     "nuid": "640f82e2-4803-4b8b-90e2-d7214c441480",
     "showTitle": false,
     "tableResultSettingsMap": {},
     "title": ""
    }
   },
   "outputs": [],
   "source": [
    "%sql\n",
    "--delete from dev_edh.dummy.lab_data_count_gold where test_date like '2025-11-%' and test_source='Lab B'"
   ]
  },
  {
   "cell_type": "code",
   "execution_count": 0,
   "metadata": {
    "application/vnd.databricks.v1+cell": {
     "cellMetadata": {
      "byteLimit": 2048000,
      "implicitDf": true,
      "rowLimit": 10000
     },
     "inputWidgets": {},
     "nuid": "216ed0b0-87ab-4bb7-8061-fe708f481407",
     "showTitle": false,
     "tableResultSettingsMap": {},
     "title": ""
    }
   },
   "outputs": [],
   "source": [
    "# %sql\n",
    "# -- Update test_date in lab_data_silver table, change the year from 2025 to 2024 if the test_date year is 2025\n",
    "# UPDATE lab_data_count_gold\n",
    "# SET test_date = date_add(test_date, -365)\n",
    "# WHERE year(test_date) = 2025;"
   ]
  },
  {
   "cell_type": "code",
   "execution_count": 0,
   "metadata": {
    "application/vnd.databricks.v1+cell": {
     "cellMetadata": {
      "byteLimit": 2048000,
      "implicitDf": true,
      "rowLimit": 10000
     },
     "inputWidgets": {},
     "nuid": "47a276d6-5d0b-4a46-865d-cf6aa0bf2e39",
     "showTitle": false,
     "tableResultSettingsMap": {},
     "title": ""
    }
   },
   "outputs": [],
   "source": [
    "%sql\n",
    "\n",
    "-- Update test_date in lab_data_silver table, change the year from 2025 to 2024 if the test_date year is 2025\n",
    "--  UPDATE lab_data_silver\n",
    "--  SET created_date = date_add(created_date, -365)\n",
    "--  WHERE year(created_date) = 2025;"
   ]
  },
  {
   "cell_type": "code",
   "execution_count": 0,
   "metadata": {
    "application/vnd.databricks.v1+cell": {
     "cellMetadata": {
      "byteLimit": 2048000,
      "implicitDf": true,
      "rowLimit": 10000
     },
     "inputWidgets": {},
     "nuid": "5c12fd2c-b23d-47ff-9ad5-137a0d281ac8",
     "showTitle": false,
     "tableResultSettingsMap": {},
     "title": ""
    }
   },
   "outputs": [],
   "source": [
    "# %sql\n",
    "# -- Update test_date in lab_data_silver table, change the year from 2025 to 2024 if the test_date year is 2025\n",
    "# UPDATE lab_data_status\n",
    "# SET load_end_date = date_add(load_end_date, -365)\n",
    "# WHERE year(load_end_date) = 2025;"
   ]
  },
  {
   "cell_type": "code",
   "execution_count": 0,
   "metadata": {
    "application/vnd.databricks.v1+cell": {
     "cellMetadata": {
      "byteLimit": 2048000,
      "rowLimit": 10000
     },
     "inputWidgets": {},
     "nuid": "02d60ccf-244c-47cc-824c-2a5bd87c7654",
     "showTitle": false,
     "tableResultSettingsMap": {},
     "title": ""
    }
   },
   "outputs": [],
   "source": [
    "# dbutils.fs.mkdirs('dbfs:/user/arundhuti/delta/lab_data/')"
   ]
  },
  {
   "cell_type": "code",
   "execution_count": 0,
   "metadata": {
    "application/vnd.databricks.v1+cell": {
     "cellMetadata": {
      "byteLimit": 2048000,
      "implicitDf": true,
      "rowLimit": 10000
     },
     "inputWidgets": {},
     "nuid": "ca38589f-3e95-49e3-941c-2141a6d8831c",
     "showTitle": false,
     "tableResultSettingsMap": {},
     "title": ""
    }
   },
   "outputs": [],
   "source": [
    "%sql\n",
    "--ALTER TABLE lab_data_count_gold DROP COLUMN loading_timestamp;"
   ]
  }
 ],
 "metadata": {
  "application/vnd.databricks.v1+notebook": {
   "computePreferences": null,
   "dashboards": [],
   "environmentMetadata": {
    "base_environment": "",
    "environment_version": "2"
   },
   "inputWidgetPreferences": null,
   "language": "python",
   "notebookMetadata": {
    "mostRecentlyExecutedCommandWithImplicitDF": {
     "commandId": 4615693316898687,
     "dataframes": [
      "_sqldf"
     ]
    },
    "pythonIndentUnit": 4
   },
   "notebookName": "nb_house_keeping",
   "widgets": {}
  },
  "language_info": {
   "name": "python"
  }
 },
 "nbformat": 4,
 "nbformat_minor": 0
}
