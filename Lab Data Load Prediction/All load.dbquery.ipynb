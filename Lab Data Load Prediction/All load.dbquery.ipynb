{
 "cells": [
  {
   "cell_type": "code",
   "execution_count": 0,
   "metadata": {
    "application/vnd.databricks.v1+cell": {
     "cellMetadata": {
      "byteLimit": 10485760,
      "rowLimit": 1000
     },
     "inputWidgets": {},
     "nuid": "f6c8f697-e7ed-4792-8c90-293b060b652e",
     "showTitle": false,
     "tableResultSettingsMap": {},
     "title": ""
    }
   },
   "outputs": [
    {
     "output_type": "display_data",
     "data": {
      "text/plain": [
       "Databricks visualization. Run in Databricks to view."
      ]
     },
     "metadata": {
      "application/vnd.databricks.v1.subcommand+json": {
       "baseErrorDetails": null,
       "bindings": {},
       "collapsed": false,
       "command": "%sql WITH q AS (SELECT DISTINCT test_source,\n       current_load,\n       CASE \n           WHEN test_source IN ('Lab A', 'Lab D') THEN concat('WEK-', date_part('WEEK', load_end_date), ', ', date_format(load_end_date, 'yyyy'))\n           WHEN test_source = 'Lab B' THEN concat(date_format(load_end_date, 'MMM'), ', ', date_format(load_end_date, 'yyyy'))\n           ELSE null\n       END AS load_end_period\nFROM dev_edh.dummy.lab_data_status\nWHERE test_source = :Lab) SELECT `load_end_period`,`test_source`,SUM(`current_load`) `column_2830b517403` FROM q GROUP BY `load_end_period`,`test_source`",
       "commandTitle": "Total Load",
       "commandType": "auto",
       "commandVersion": 0,
       "commentThread": [],
       "commentsVisible": false,
       "contentSha256Hex": null,
       "customPlotOptions": {
        "redashChart": [
         {
          "key": "type",
          "value": "CHART"
         },
         {
          "key": "options",
          "value": {
           "alignYAxesAtZero": false,
           "coefficient": 1,
           "columnConfigurationMap": {
            "series": {
             "column": "test_source",
             "id": "column_2830b517408"
            },
            "x": {
             "column": "load_end_period",
             "id": "column_2830b517409"
            },
            "y": [
             {
              "column": "current_load",
              "id": "column_2830b517403",
              "transform": "SUM"
             }
            ]
           },
           "dateTimeFormat": "DD/MM/YYYY HH:mm",
           "direction": {
            "type": "counterclockwise"
           },
           "error_y": {
            "type": "data",
            "visible": true
           },
           "globalSeriesType": "column",
           "hideYAxes": true,
           "isAggregationOn": true,
           "legend": {
            "traceorder": "normal"
           },
           "missingValuesAsZero": true,
           "numberFormat": "0,0.[00000]",
           "percentFormat": "0[.]00%",
           "series": {
            "error_y": {
             "type": "data",
             "visible": true
            },
            "stacking": null
           },
           "seriesOptions": {
            "Lab A": {
             "yAxis": 1,
             "zIndex": 0
            },
            "column_2830b517403": {
             "name": "current_load",
             "type": "column",
             "yAxis": 0
            }
           },
           "showDataLabels": false,
           "sizemode": "diameter",
           "sortX": true,
           "sortY": true,
           "swappedAxes": false,
           "textFormat": "",
           "useAggregationsUi": true,
           "valuesOptions": {},
           "version": 2,
           "xAxis": {
            "labels": {
             "enabled": true
            },
            "title": {
             "text": "Time"
            },
            "type": "category"
           },
           "yAxis": [
            {
             "rangeMax": 4,
             "rangeMin": 0,
             "title": {
              "text": null
             },
             "type": "logarithmic"
            },
            {
             "opposite": true,
             "title": {
              "text": "Total Load"
             },
             "type": "-"
            }
           ]
          }
         }
        ]
       },
       "datasetPreviewNameToCmdIdMap": {},
       "diffDeletes": [],
       "diffInserts": [],
       "displayType": "redashChart",
       "error": null,
       "errorDetails": null,
       "errorSummary": null,
       "errorTraceType": null,
       "finishTime": 0,
       "globalVars": {},
       "guid": "",
       "height": "auto",
       "hideCommandCode": false,
       "hideCommandResult": false,
       "iPythonMetadata": null,
       "inputWidgets": {},
       "isLockedInExamMode": false,
       "latestUser": "a user",
       "latestUserId": null,
       "listResultMetadata": null,
       "metadata": {},
       "nuid": "1b9a4869-b546-4e89-8614-7e982468cfa7",
       "origId": 0,
       "parentHierarchy": [],
       "pivotAggregation": null,
       "pivotColumns": null,
       "position": 2.0,
       "resultDbfsErrorMessage": null,
       "resultDbfsStatus": "INLINED_IN_TREE",
       "results": null,
       "showCommandTitle": false,
       "startTime": 0,
       "state": "input",
       "streamStates": {},
       "subcommandOptions": {
        "queryPlan": {
         "groups": [
          {
           "column": "load_end_period",
           "type": "column"
          },
          {
           "column": "test_source",
           "type": "column"
          }
         ],
         "selects": [
          {
           "column": "load_end_period",
           "type": "column"
          },
          {
           "column": "test_source",
           "type": "column"
          },
          {
           "alias": "column_2830b517403",
           "args": [
            {
             "column": "current_load",
             "type": "column"
            }
           ],
           "function": "SUM",
           "type": "function"
          }
         ]
        }
       },
       "submitTime": 0,
       "subtype": "tableResultSubCmd.visualization",
       "tableResultIndex": 0,
       "tableResultSettingsMap": {},
       "useConsistentColors": false,
       "version": "CommandV1",
       "width": "auto",
       "workflows": null,
       "xColumns": null,
       "yColumns": null
      }
     },
     "output_type": "display_data"
    }
   ],
   "source": [
    "SELECT DISTINCT test_source,\n",
    "       current_load,\n",
    "       CASE \n",
    "           WHEN test_source IN ('Lab A', 'Lab D') THEN concat('WEK-', date_part('WEEK', load_end_date), ', ', date_format(load_end_date, 'yyyy'))\n",
    "           WHEN test_source = 'Lab B' THEN concat(date_format(load_end_date, 'MMM'), ', ', date_format(load_end_date, 'yyyy'))\n",
    "           ELSE null\n",
    "       END AS load_end_period\n",
    "FROM dev_edh.dummy.lab_data_status\n",
    "WHERE test_source = :Lab"
   ]
  }
 ],
 "metadata": {
  "application/vnd.databricks.v1+notebook": {
   "computePreferences": null,
   "dashboards": [],
   "environmentMetadata": null,
   "inputWidgetPreferences": null,
   "language": "sql",
   "notebookMetadata": {
    "pythonIndentUnit": 4,
    "sqlQueryOptions": {
     "applyAutoLimit": true,
     "catalog": "dev_edh",
     "schema": "dummy"
    }
   },
   "notebookName": "All load.dbquery.ipynb",
   "widgets": {
    "Lab": {
     "currentValue": "Lab B",
     "nuid": "ac6cc16c-0c5c-4b43-863e-3bccda353621",
     "typedWidgetInfo": {
      "autoCreated": false,
      "defaultValue": "Lab A",
      "label": "",
      "name": "Lab",
      "options": {
       "widgetDisplayType": "Dropdown",
       "choices": [
        "Lab A",
        "Lab B",
        "Lab D"
       ],
       "fixedDomain": true,
       "multiselect": false
      },
      "parameterDataType": "String"
     },
     "widgetInfo": {
      "widgetType": "dropdown",
      "defaultValue": "Lab A",
      "label": "",
      "name": "Lab",
      "options": {
       "widgetType": "dropdown",
       "autoCreated": false,
       "choices": [
        "Lab A",
        "Lab B",
        "Lab D"
       ]
      }
     }
    }
   }
  },
  "language_info": {
   "name": "sql"
  }
 },
 "nbformat": 4,
 "nbformat_minor": 0
}
