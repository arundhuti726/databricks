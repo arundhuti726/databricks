{
 "cells": [
  {
   "cell_type": "code",
   "execution_count": 0,
   "metadata": {
    "application/vnd.databricks.v1+cell": {
     "cellMetadata": {
      "byteLimit": 2048000,
      "rowLimit": 10000
     },
     "inputWidgets": {},
     "nuid": "303408bc-7d80-48eb-8373-847d80af814b",
     "showTitle": false,
     "tableResultSettingsMap": {},
     "title": ""
    }
   },
   "outputs": [],
   "source": [
    "#display(mask_phone_number('1234567890'))\n"
   ]
  },
  {
   "cell_type": "code",
   "execution_count": 0,
   "metadata": {
    "application/vnd.databricks.v1+cell": {
     "cellMetadata": {
      "byteLimit": 2048000,
      "rowLimit": 10000
     },
     "inputWidgets": {},
     "nuid": "1e093fcb-75c5-4299-bd04-0b990738e576",
     "showTitle": false,
     "tableResultSettingsMap": {},
     "title": ""
    }
   },
   "outputs": [],
   "source": [
    "#this function gives returned a cleaned dataframe after removing rows containing null from given list of columns\n",
    "from functools import reduce\n",
    "from pyspark.sql.functions import col\n",
    "\n",
    "def remove_null(df, columns):\n",
    "    return df.filter(reduce(lambda a, b: a & b, [col(c).isNotNull() for c in columns]))"
   ]
  },
  {
   "cell_type": "code",
   "execution_count": 0,
   "metadata": {
    "application/vnd.databricks.v1+cell": {
     "cellMetadata": {
      "byteLimit": 2048000,
      "rowLimit": 10000
     },
     "inputWidgets": {},
     "nuid": "cdbb5aa1-b77b-420a-9a8d-58664a42db80",
     "showTitle": false,
     "tableResultSettingsMap": {},
     "title": ""
    }
   },
   "outputs": [],
   "source": [
    "#this function gives returned a cleaned dataframe after removing rows containing null from given list of columns\n",
    "from functools import reduce\n",
    "from pyspark.sql.functions import col\n",
    "\n",
    "def checking_null(df, columns):\n",
    "    return df.filter(reduce(lambda a, b: a | b, [col(c).isNull() for c in columns]))"
   ]
  },
  {
   "cell_type": "code",
   "execution_count": 0,
   "metadata": {
    "application/vnd.databricks.v1+cell": {
     "cellMetadata": {
      "byteLimit": 2048000,
      "rowLimit": 10000
     },
     "inputWidgets": {},
     "nuid": "556088fd-1a31-49c7-a91e-f11da63faeb0",
     "showTitle": false,
     "tableResultSettingsMap": {},
     "title": ""
    }
   },
   "outputs": [],
   "source": [
    "# from pyspark.sql import Row\n",
    "\n",
    "# # Create a list of Rows with phone numbers\n",
    "# phone_numbers = [\n",
    "#     Row(phone_number='001-676-280-7215x75201'),\n",
    "#     Row(phone_number='(687)175-5387'),\n",
    "#     Row(phone_number='289.636.1057x502'),\n",
    "#     Row(phone_number='+1-761-761-5681x01120'),\n",
    "#     Row(phone_number='936-625-4803x80357'),\n",
    "#     Row(phone_number='544.073.0678x23115')\n",
    "# ]\n",
    "\n",
    "# # Create a DataFrame from the list of Rows\n",
    "# df = spark.createDataFrame(phone_numbers)\n",
    "# display(df)"
   ]
  },
  {
   "cell_type": "code",
   "execution_count": 0,
   "metadata": {
    "application/vnd.databricks.v1+cell": {
     "cellMetadata": {
      "byteLimit": 2048000,
      "rowLimit": 10000
     },
     "inputWidgets": {},
     "nuid": "999e3aeb-e055-43ed-9c58-b58213d53803",
     "showTitle": false,
     "tableResultSettingsMap": {},
     "title": ""
    }
   },
   "outputs": [],
   "source": [
    "%python\n",
    "from pyspark.sql.functions import udf, col, regexp_replace\n",
    "from pyspark.sql.types import StringType\n",
    "\n",
    "\n",
    "def mask_phone_number(phone_number):\n",
    "    #replace ISD from the number \n",
    "    phone_number = phone_number.replace('+', '')\n",
    "    #keep only number and remove all su=ymbols and other\n",
    "    phone_number = ''.join(filter(str.isdigit, phone_number))\n",
    "    if phone_number and len(phone_number) >= 10:\n",
    "        new_phone_number = phone_number[:4] + '*' * (len(phone_number) - 4)\n",
    "        return new_phone_number\n",
    "    return phone_number\n",
    "\n",
    "mask_phone_number_udf = udf(mask_phone_number, StringType())\n",
    "\n",
    "\n",
    "# Example DataFrame to demonstrate the UDF\n",
    "# df = spark.createDataFrame([('+1234567890897',), ('0987654321',)], ['phone_number'])\n",
    "# df = df.withColumn('masked_phone_number', mask_phone_number_udf(df['phone_number']))\n"
   ]
  },
  {
   "cell_type": "code",
   "execution_count": 0,
   "metadata": {
    "application/vnd.databricks.v1+cell": {
     "cellMetadata": {
      "byteLimit": 2048000,
      "rowLimit": 10000
     },
     "inputWidgets": {},
     "nuid": "77055278-53bd-491e-9cf7-a958c4c6d380",
     "showTitle": false,
     "tableResultSettingsMap": {},
     "title": ""
    }
   },
   "outputs": [],
   "source": [
    "# a = mask_phone_number_udf('phone_number')\n",
    "# display(a)"
   ]
  }
 ],
 "metadata": {
  "application/vnd.databricks.v1+notebook": {
   "computePreferences": null,
   "dashboards": [],
   "environmentMetadata": {
    "base_environment": "",
    "environment_version": "2"
   },
   "inputWidgetPreferences": null,
   "language": "python",
   "notebookMetadata": {
    "pythonIndentUnit": 4
   },
   "notebookName": "nb_utility_functions",
   "widgets": {}
  },
  "language_info": {
   "name": "python"
  }
 },
 "nbformat": 4,
 "nbformat_minor": 0
}
