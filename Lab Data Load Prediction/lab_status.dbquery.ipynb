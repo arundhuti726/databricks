{
 "cells": [
  {
   "cell_type": "code",
   "execution_count": 0,
   "metadata": {
    "application/vnd.databricks.v1+cell": {
     "cellMetadata": {
      "byteLimit": 10485760,
      "rowLimit": 1000
     },
     "inputWidgets": {},
     "nuid": "74805435-6c8c-4c4b-b0de-d3b6adfb2996",
     "showTitle": false,
     "tableResultSettingsMap": {},
     "title": ""
    }
   },
   "outputs": [],
   "source": [
    "-- select status\n",
    "-- from lab_data_status \n",
    "-- where test_source = :Lab\n",
    "-- limit 1\n",
    "\n",
    "select status\n",
    "from lab_data_status\n",
    "where timestamp = (select max(timestamp) from lab_data_status where test_source = :Lab)\n",
    "  and test_source = :Lab  limit 1\n"
   ]
  }
 ],
 "metadata": {
  "application/vnd.databricks.v1+notebook": {
   "computePreferences": null,
   "dashboards": [],
   "environmentMetadata": null,
   "inputWidgetPreferences": null,
   "language": "sql",
   "notebookMetadata": {
    "pythonIndentUnit": 4,
    "sqlQueryOptions": {
     "applyAutoLimit": true,
     "catalog": "dev_edh",
     "schema": "dummy"
    }
   },
   "notebookName": "lab_status.dbquery.ipynb",
   "widgets": {
    "Lab": {
     "currentValue": "lab A",
     "nuid": "013c57f9-5e36-4f86-8462-1a3072b25a56",
     "typedWidgetInfo": {
      "autoCreated": false,
      "defaultValue": "",
      "label": "",
      "name": "Lab",
      "options": {
       "widgetDisplayType": "Text",
       "validationRegex": null
      },
      "parameterDataType": "String"
     },
     "widgetInfo": {
      "widgetType": "text",
      "defaultValue": "",
      "label": "",
      "name": "Lab",
      "options": {
       "widgetType": "text",
       "autoCreated": false,
       "validationRegex": null
      }
     }
    }
   }
  },
  "language_info": {
   "name": "sql"
  }
 },
 "nbformat": 4,
 "nbformat_minor": 0
}
