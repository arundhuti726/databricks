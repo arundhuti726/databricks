{
 "cells": [
  {
   "cell_type": "code",
   "execution_count": 0,
   "metadata": {
    "application/vnd.databricks.v1+cell": {
     "cellMetadata": {
      "byteLimit": 2048000,
      "implicitDf": true,
      "rowLimit": 10000
     },
     "inputWidgets": {},
     "nuid": "22cf55f5-9209-481f-bcf5-6beb59bdc329",
     "showTitle": false,
     "tableResultSettingsMap": {},
     "title": ""
    }
   },
   "outputs": [],
   "source": [
    "%sql\n",
    "use catalog dev_edh;\n",
    "use schema dummy;"
   ]
  },
  {
   "cell_type": "code",
   "execution_count": 0,
   "metadata": {
    "application/vnd.databricks.v1+cell": {
     "cellMetadata": {
      "byteLimit": 2048000,
      "rowLimit": 10000
     },
     "inputWidgets": {},
     "nuid": "51eadcda-6192-4fb2-bb21-24b527515bac",
     "showTitle": false,
     "tableResultSettingsMap": {},
     "title": ""
    }
   },
   "outputs": [],
   "source": [
    "df = spark.table('used_car_sales_bronze')"
   ]
  },
  {
   "cell_type": "code",
   "execution_count": 0,
   "metadata": {
    "application/vnd.databricks.v1+cell": {
     "cellMetadata": {
      "byteLimit": 2048000,
      "rowLimit": 10000
     },
     "inputWidgets": {},
     "nuid": "97ac150a-94ba-4299-9453-572f9191cf56",
     "showTitle": false,
     "tableResultSettingsMap": {},
     "title": ""
    }
   },
   "outputs": [],
   "source": [
    "from pyspark.sql.functions import col, when,length\n",
    "\n",
    "cleaned_df =     df \\\n",
    "                .dropna(subset=['pricesold', 'yearsold', 'Mileage', 'Make', 'Model', 'Year', 'zipcode']) \\\n",
    "                .withColumn(\"Age\", col(\"yearsold\").cast('integer') - col(\"Year\").cast('integer')) \\\n",
    "                .withColumn(\"PricePerMile\", col(\"pricesold\") / col(\"Mileage\")) \\\n",
    "                .withColumn(\"Year\", col(\"Year\").cast('string').substr(1,4) )\n",
    "\n",
    "# categorize mileage bracket based on mileage\n",
    "cleaned_df = cleaned_df \\\n",
    "     .withColumn(\"MileageBracket\", \\\n",
    "     when(col(\"Mileage\") < 20000, \"0-20000\") \\\n",
    "    .when((col(\"Mileage\") >= 20000) & (col(\"Mileage\") < 40000), \"20000-40000\") \\\n",
    "    .when((col(\"Mileage\") >= 40000) & (col(\"Mileage\") < 60000), \"40000-60000\") \\\n",
    "    .when((col(\"Mileage\") >= 60000) & (col(\"Mileage\") < 80000), \"60000-80000\")  \\\n",
    "    .when((col(\"Mileage\") >= 80000) & (col(\"Mileage\") < 100000), \"80000-100000\") \\\n",
    "    .when((col(\"Mileage\") >= 100000) & (col(\"Mileage\") < 150000), \"100000-150000\") \\\n",
    "    .when((col(\"Mileage\") >= 150000), \"150000+\")) \\\n",
    "    .withColumn(\"PriceBracket\", \\\n",
    "     when(col(\"pricesold\") < 5000, \"0-5000 \") \\\n",
    "    .when((col(\"pricesold\") >= 5000) & (col(\"pricesold\") < 10000), \"5000-10000 \") \\\n",
    "    .when((col(\"pricesold\") >= 10000) & (col(\"pricesold\") < 15000), \"10000-15000  \") \\\n",
    "    .when((col(\"pricesold\") >= 15000) & (col(\"pricesold\") < 20000), \"15000-20000  \") \\\n",
    "    .when((col(\"pricesold\") >= 20000) & (col(\"pricesold\") < 25000), \"20000-25000 \")  \\\n",
    "    .when((col(\"pricesold\") >= 25000) & (col(\"pricesold\") < 30000), \"25000-30000 \") \\\n",
    "    .when((col(\"pricesold\") >= 30000) & (col(\"pricesold\") < 35000), \"30000-35000 \") \\\n",
    "    .when((col(\"pricesold\") >= 35000) & (col(\"pricesold\") < 40000), \"35000-40000 \") \\\n",
    "    .when((col(\"pricesold\") >= 40000) & (col(\"pricesold\") < 45000), \"40000-45000 \") \\\n",
    "    .when((col(\"pricesold\") >= 45000) & (col(\"pricesold\") < 50000), \"45000-50000 \") \\\n",
    "    .when((col(\"pricesold\") >= 50000) & (col(\"pricesold\") < 75000), \"55000-75000 \") \\\n",
    "    .when((col(\"pricesold\") >= 75000) & (col(\"pricesold\") < 100000), \"75000-100000 \") \\\n",
    "    .when((col(\"pricesold\") >= 100000) , \"1000000+\"))\n",
    "\n",
    "display(cleaned_df)"
   ]
  },
  {
   "cell_type": "code",
   "execution_count": 0,
   "metadata": {
    "application/vnd.databricks.v1+cell": {
     "cellMetadata": {
      "byteLimit": 2048000,
      "rowLimit": 10000
     },
     "inputWidgets": {},
     "nuid": "5e03aed2-73c2-41e1-99be-57d376f10cbd",
     "showTitle": false,
     "tableResultSettingsMap": {},
     "title": ""
    }
   },
   "outputs": [],
   "source": [
    "from pyspark.sql.functions import length\n",
    "\n",
    "cleaned_df =  (\n",
    "               cleaned_df \\\n",
    "                         .filter((col('pricesold') > 100) & (col('Year').cast('int') >= 1940) & (col('Year').cast('int') <= 2025))\n",
    "                         .filter(col('Age') >= 0)\n",
    "                         .filter(length(col('zipcode')) >= 5)\n",
    "                )         \n",
    "display(cleaned_df)"
   ]
  },
  {
   "cell_type": "code",
   "execution_count": 0,
   "metadata": {
    "application/vnd.databricks.v1+cell": {
     "cellMetadata": {
      "byteLimit": 2048000,
      "rowLimit": 10000
     },
     "inputWidgets": {},
     "nuid": "e88082de-8902-4c48-a755-a2eb7d9f6f3f",
     "showTitle": false,
     "tableResultSettingsMap": {},
     "title": ""
    }
   },
   "outputs": [],
   "source": [
    "cleaned_df.write.mode(\"overwrite\").saveAsTable(\"car_sales_silver\")"
   ]
  },
  {
   "cell_type": "code",
   "execution_count": 0,
   "metadata": {
    "application/vnd.databricks.v1+cell": {
     "cellMetadata": {
      "byteLimit": 2048000,
      "implicitDf": true,
      "rowLimit": 10000
     },
     "inputWidgets": {},
     "nuid": "fb43b4f2-6a00-49d1-a30f-6c299b9738ab",
     "showTitle": false,
     "tableResultSettingsMap": {},
     "title": ""
    }
   },
   "outputs": [],
   "source": [
    "%sql\n",
    "select * from car_sales_silver"
   ]
  }
 ],
 "metadata": {
  "application/vnd.databricks.v1+notebook": {
   "computePreferences": null,
   "dashboards": [],
   "environmentMetadata": {
    "base_environment": "",
    "environment_version": "2"
   },
   "inputWidgetPreferences": null,
   "language": "python",
   "notebookMetadata": {
    "mostRecentlyExecutedCommandWithImplicitDF": {
     "commandId": 6046471558382426,
     "dataframes": [
      "_sqldf"
     ]
    },
    "pythonIndentUnit": 4
   },
   "notebookName": "nb_silver_car_sale_clean",
   "widgets": {}
  },
  "language_info": {
   "name": "python"
  }
 },
 "nbformat": 4,
 "nbformat_minor": 0
}
