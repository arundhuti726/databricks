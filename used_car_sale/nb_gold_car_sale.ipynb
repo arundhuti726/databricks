{
 "cells": [
  {
   "cell_type": "code",
   "execution_count": 0,
   "metadata": {
    "application/vnd.databricks.v1+cell": {
     "cellMetadata": {
      "byteLimit": 2048000,
      "implicitDf": true,
      "rowLimit": 10000
     },
     "inputWidgets": {},
     "nuid": "ff98a27a-54f5-4adb-b92f-696da4028e02",
     "showTitle": false,
     "tableResultSettingsMap": {},
     "title": ""
    }
   },
   "outputs": [],
   "source": [
    "%sql\n",
    "use catalog dev_edh;\n",
    "use schema dummy;"
   ]
  },
  {
   "cell_type": "code",
   "execution_count": 0,
   "metadata": {
    "application/vnd.databricks.v1+cell": {
     "cellMetadata": {
      "byteLimit": 2048000,
      "rowLimit": 10000
     },
     "inputWidgets": {},
     "nuid": "8a475f4d-0aa0-474c-8b38-c97c09576ebd",
     "showTitle": false,
     "tableResultSettingsMap": {},
     "title": ""
    }
   },
   "outputs": [],
   "source": [
    "zip_df = spark.table('zip_code_bronze')\n",
    "clean_car_df = spark.table('car_sales_silver')"
   ]
  },
  {
   "cell_type": "code",
   "execution_count": 0,
   "metadata": {
    "application/vnd.databricks.v1+cell": {
     "cellMetadata": {
      "byteLimit": 2048000,
      "rowLimit": 10000
     },
     "inputWidgets": {},
     "nuid": "47c00624-0539-495c-b80c-d42c7ab944e4",
     "showTitle": false,
     "tableResultSettingsMap": {},
     "title": ""
    }
   },
   "outputs": [],
   "source": [
    "#match with first 3 digit of zipcode\n",
    "enhanced_df = clean_car_df.join(zip_df, clean_car_df.zipcode == zip_df['zipcode'], 'left').select(\n",
    "    'ID',\n",
    "     'pricesold', \n",
    "     'yearsold', \n",
    "     'Mileage', \n",
    "     'Make', \n",
    "     'Model', \n",
    "     'Year', \n",
    "     'Trim', \n",
    "     'Engine', \n",
    "     'BodyType', \n",
    "     'NumCylinders', \n",
    "     'DriveType', \n",
    "     'Age', \n",
    "     'PricePerMile', \n",
    "     'MileageBracket',\n",
    "     'PriceBracket',\n",
    "     clean_car_df['zipcode'].alias('zipcode'),\n",
    "     zip_df['area_name'].alias('area_name'),\n",
    "     zip_df['delivery_zipcode'].alias('delivery_zipcode'),\n",
    "     zip_df['city_Sold'].alias('city_Sold'),\n",
    "     zip_df['state_Sold'].alias('state_Sold'),\n",
    "     \n",
    "     )"
   ]
  },
  {
   "cell_type": "code",
   "execution_count": 0,
   "metadata": {
    "application/vnd.databricks.v1+cell": {
     "cellMetadata": {
      "byteLimit": 2048000,
      "rowLimit": 10000
     },
     "inputWidgets": {},
     "nuid": "53af2a29-774a-4596-aa3b-09fd3f378aa9",
     "showTitle": false,
     "tableResultSettingsMap": {},
     "title": ""
    }
   },
   "outputs": [],
   "source": [
    "enhanced_df.write.mode(\"overwrite\").saveAsTable(\"car_sales_enhanced\")"
   ]
  },
  {
   "cell_type": "code",
   "execution_count": 0,
   "metadata": {
    "application/vnd.databricks.v1+cell": {
     "cellMetadata": {
      "byteLimit": 2048000,
      "implicitDf": true,
      "rowLimit": 10000
     },
     "inputWidgets": {},
     "nuid": "32f5d814-7f26-4e78-b41e-e27eadd77021",
     "showTitle": false,
     "tableResultSettingsMap": {},
     "title": ""
    }
   },
   "outputs": [],
   "source": [
    "%sql\n",
    "--select * from car_sales_enhanced"
   ]
  }
 ],
 "metadata": {
  "application/vnd.databricks.v1+notebook": {
   "computePreferences": null,
   "dashboards": [],
   "environmentMetadata": {
    "base_environment": "",
    "environment_version": "2"
   },
   "inputWidgetPreferences": null,
   "language": "python",
   "notebookMetadata": {
    "mostRecentlyExecutedCommandWithImplicitDF": {
     "commandId": -1,
     "dataframes": [
      "_sqldf"
     ]
    },
    "pythonIndentUnit": 4
   },
   "notebookName": "nb_gold_car_sale",
   "widgets": {}
  },
  "language_info": {
   "name": "python"
  }
 },
 "nbformat": 4,
 "nbformat_minor": 0
}
