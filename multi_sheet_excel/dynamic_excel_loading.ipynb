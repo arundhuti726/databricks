{
 "cells": [
  {
   "cell_type": "code",
   "execution_count": 0,
   "metadata": {
    "application/vnd.databricks.v1+cell": {
     "cellMetadata": {
      "byteLimit": 2048000,
      "implicitDf": true,
      "rowLimit": 10000
     },
     "inputWidgets": {},
     "nuid": "ac0d3d5b-d38c-4ae4-91fd-102486e45007",
     "showTitle": false,
     "tableResultSettingsMap": {},
     "title": ""
    }
   },
   "outputs": [],
   "source": [
    "%sql\n",
    "use catalog dev_edh;\n",
    "use schema dummy;\n",
    "--select count(*) from dev_edh.dummy.delta_source;\n",
    "--truncate TABLE dev_poc.default.delta_source;\n"
   ]
  },
  {
   "cell_type": "code",
   "execution_count": 0,
   "metadata": {
    "application/vnd.databricks.v1+cell": {
     "cellMetadata": {
      "byteLimit": 2048000,
      "rowLimit": 10000
     },
     "inputWidgets": {},
     "nuid": "750327e8-93a7-460b-afa7-fcd20545a6a2",
     "showTitle": false,
     "tableResultSettingsMap": {},
     "title": ""
    }
   },
   "outputs": [],
   "source": [
    "import pandas as pd\n",
    "import warnings\n",
    "import time\n",
    "warnings.simplefilter(action='ignore', category=FutureWarning)\n",
    "dbutils.widgets.text(label=\"Source Directory\", name=\"source_path\", defaultValue='')\n"
   ]
  },
  {
   "cell_type": "code",
   "execution_count": 0,
   "metadata": {
    "application/vnd.databricks.v1+cell": {
     "cellMetadata": {
      "byteLimit": 2048000,
      "rowLimit": 10000
     },
     "inputWidgets": {},
     "nuid": "29965bdb-1fbd-4358-bfc7-135c816df47f",
     "showTitle": false,
     "tableResultSettingsMap": {},
     "title": ""
    }
   },
   "outputs": [],
   "source": [
    "%python\n",
    "import os\n",
    "import pandas as pd\n",
    "import time\n",
    "\n",
    "data = []\n",
    "cols = ['FileName', 'SheetName', 'ModificationTime', 'LoadTime', 'Data']\n",
    "directory = '/dbfs/user/arundhuti/delta/'\n",
    "list_files = os.listdir(directory)\n",
    "\n",
    "for item in list_files:\n",
    "    file_path = os.path.join(directory, item)\n",
    "    if item[-5:] == '.xlsx':\n",
    "        sheets = pd.ExcelFile(file_path)\n",
    "        if len(sheets.sheet_names) >= 1:\n",
    "            for sheet in sheets.sheet_names:\n",
    "                pdf = pd.read_excel(file_path, sheet_name=sheet)\n",
    "                modfied_time = int(os.path.getmtime(file_path) / 1000)\n",
    "                value = pdf.to_json(orient='split')\n",
    "                load_time = time.strftime(\"%Y%m%d:%H:%M:%S\", time.localtime())\n",
    "\n",
    "                data.append([file_path, sheet, time.strftime('%Y%m%d:%H:%M:%S', time.localtime(modfied_time)), load_time, value])\n",
    "                df = spark.createDataFrame(data, cols)\n",
    "                df.write.format(\"delta\").mode(\"append\").saveAsTable(\"delta_source\")"
   ]
  },
  {
   "cell_type": "code",
   "execution_count": 0,
   "metadata": {
    "application/vnd.databricks.v1+cell": {
     "cellMetadata": {
      "byteLimit": 2048000,
      "rowLimit": 10000
     },
     "inputWidgets": {},
     "nuid": "27d52407-4013-4bc7-b855-c2f62fc2b38f",
     "showTitle": false,
     "tableResultSettingsMap": {},
     "title": ""
    }
   },
   "outputs": [],
   "source": [
    "display(df)"
   ]
  },
  {
   "cell_type": "code",
   "execution_count": 0,
   "metadata": {
    "application/vnd.databricks.v1+cell": {
     "cellMetadata": {
      "byteLimit": 2048000,
      "rowLimit": 10000
     },
     "inputWidgets": {},
     "nuid": "e7107324-5941-4482-9dc6-7d1a7190f0d7",
     "showTitle": false,
     "tableResultSettingsMap": {},
     "title": ""
    }
   },
   "outputs": [],
   "source": [
    "df2 = df.filter((df['FileName'] == '/dbfs/user/arundhuti/delta/data_detail.xlsx') & (df['SheetName'] == 'Member')).select('Data')\n",
    "display(df2)"
   ]
  },
  {
   "cell_type": "code",
   "execution_count": 0,
   "metadata": {
    "application/vnd.databricks.v1+cell": {
     "cellMetadata": {
      "byteLimit": 2048000,
      "rowLimit": 10000
     },
     "inputWidgets": {},
     "nuid": "5c77cef1-02f7-4e11-9358-9def85b78768",
     "showTitle": false,
     "tableResultSettingsMap": {},
     "title": ""
    }
   },
   "outputs": [],
   "source": [
    "import json\n",
    "\n",
    "df3 = json.loads(df2.collect()[0]['Data'])\n",
    "cols = df3['columns']\n",
    "data = df3['data']\n",
    "sdf = spark.createDataFrame(data, cols)\n",
    "display(sdf)\n",
    "#df3"
   ]
  },
  {
   "cell_type": "code",
   "execution_count": 0,
   "metadata": {
    "application/vnd.databricks.v1+cell": {
     "cellMetadata": {
      "byteLimit": 2048000,
      "rowLimit": 10000
     },
     "inputWidgets": {},
     "nuid": "768fab18-ab1a-4dce-ba7b-e0ab3db0fcbb",
     "showTitle": false,
     "tableResultSettingsMap": {},
     "title": ""
    }
   },
   "outputs": [],
   "source": [
    "current_time = time.strftime(\"%Y%m%d:%H:%M:%S\",time.localtime())\n",
    "current_time \n"
   ]
  },
  {
   "cell_type": "code",
   "execution_count": 0,
   "metadata": {
    "application/vnd.databricks.v1+cell": {
     "cellMetadata": {
      "byteLimit": 2048000,
      "implicitDf": true,
      "rowLimit": 10000
     },
     "inputWidgets": {},
     "nuid": "8df5c6b7-7a6a-495b-b33c-a2a73f3d264d",
     "showTitle": false,
     "tableResultSettingsMap": {},
     "title": ""
    }
   },
   "outputs": [],
   "source": [
    "%sql\n",
    "select * from dev_edh.dummy.delta_source"
   ]
  }
 ],
 "metadata": {
  "application/vnd.databricks.v1+notebook": {
   "computePreferences": null,
   "dashboards": [],
   "environmentMetadata": {
    "base_environment": "",
    "environment_version": "1"
   },
   "inputWidgetPreferences": null,
   "language": "python",
   "notebookMetadata": {
    "mostRecentlyExecutedCommandWithImplicitDF": {
     "commandId": 8882133621078742,
     "dataframes": [
      "_sqldf"
     ]
    },
    "pythonIndentUnit": 4
   },
   "notebookName": "dynamic_excel_loading",
   "widgets": {
    "source_path": {
     "currentValue": "/dbfs/user/arundhuti/delta/",
     "nuid": "cc3220a4-644e-4e1e-8ea2-88ef91b13292",
     "typedWidgetInfo": {
      "autoCreated": false,
      "defaultValue": "",
      "label": "Source Directory",
      "name": "source_path",
      "options": {
       "widgetDisplayType": "Text",
       "validationRegex": null
      },
      "parameterDataType": "String"
     },
     "widgetInfo": {
      "widgetType": "text",
      "defaultValue": "",
      "label": "Source Directory",
      "name": "source_path",
      "options": {
       "widgetType": "text",
       "autoCreated": null,
       "validationRegex": null
      }
     }
    }
   }
  },
  "language_info": {
   "name": "python"
  }
 },
 "nbformat": 4,
 "nbformat_minor": 0
}
